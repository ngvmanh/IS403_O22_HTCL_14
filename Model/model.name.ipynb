{
 "cells": [
  {
   "cell_type": "code",
   "execution_count": 3,
   "metadata": {},
   "outputs": [],
   "source": [
    "import yfinance as yf\n",
    "import pandas as pd"
   ]
  },
  {
   "cell_type": "code",
   "execution_count": 7,
   "metadata": {},
   "outputs": [],
   "source": [
    "def get_data(stock_name):\n",
    "    return yf.download(tickers=stock_name, start=\"2015-01-01\", end=\"2023-01-01\")"
   ]
  },
  {
   "cell_type": "code",
   "execution_count": 8,
   "metadata": {},
   "outputs": [
    {
     "name": "stderr",
     "output_type": "stream",
     "text": [
      "[*********************100%%**********************]  1 of 1 completed\n",
      "[*********************100%%**********************]  1 of 1 completed\n",
      "[*********************100%%**********************]  1 of 1 completed\n"
     ]
    }
   ],
   "source": [
    "get_data(\"VCB.VN\").to_csv('D:/UIT/nam3/hk2/phantichdulieukinhdoanh/project/IS403_O22_HTCL_14/Dataset/VCB_2015_2023.csv')\n",
    "get_data(\"BID.VN\").to_csv('D:/UIT/nam3/hk2/phantichdulieukinhdoanh/project/IS403_O22_HTCL_14/Dataset/BID_2015_2023.csv')\n",
    "get_data(\"CTG.VN\").to_csv('D:/UIT/nam3/hk2/phantichdulieukinhdoanh/project/IS403_O22_HTCL_14/Dataset/CTG_2015_2023.csv')"
   ]
  }
 ],
 "metadata": {
  "kernelspec": {
   "display_name": "Python 3",
   "language": "python",
   "name": "python3"
  },
  "language_info": {
   "codemirror_mode": {
    "name": "ipython",
    "version": 3
   },
   "file_extension": ".py",
   "mimetype": "text/x-python",
   "name": "python",
   "nbconvert_exporter": "python",
   "pygments_lexer": "ipython3",
   "version": "3.12.3"
  }
 },
 "nbformat": 4,
 "nbformat_minor": 2
}
